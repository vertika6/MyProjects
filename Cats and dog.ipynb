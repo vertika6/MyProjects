{
 "cells": [
  {
   "cell_type": "markdown",
   "metadata": {},
   "source": [
    "# PROBLEM STATEMENT"
   ]
  },
  {
   "cell_type": "markdown",
   "metadata": {},
   "source": [
    "# Cat and Dog prediction problem using CNN"
   ]
  },
  {
   "cell_type": "code",
   "execution_count": 3,
   "metadata": {},
   "outputs": [],
   "source": [
    "import tensorflow as tf\n",
    "from keras.preprocessing.image import ImageDataGenerator"
   ]
  },
  {
   "cell_type": "code",
   "execution_count": 4,
   "metadata": {},
   "outputs": [
    {
     "name": "stdout",
     "output_type": "stream",
     "text": [
      "Found 8000 images belonging to 2 classes.\n"
     ]
    }
   ],
   "source": [
    "train_datagen = ImageDataGenerator(rescale = 1./255,\n",
    "                                   shear_range = 0.2,\n",
    "                                   zoom_range = 0.2,\n",
    "                                   horizontal_flip = True)\n",
    "training_set = train_datagen.flow_from_directory('dataset/training_set',\n",
    "                                                 target_size = (64, 64),\n",
    "                                                 batch_size = 32,\n",
    "                                                 class_mode = 'binary')"
   ]
  },
  {
   "cell_type": "code",
   "execution_count": 5,
   "metadata": {},
   "outputs": [
    {
     "name": "stdout",
     "output_type": "stream",
     "text": [
      "Found 2000 images belonging to 2 classes.\n"
     ]
    }
   ],
   "source": [
    "test_datagen = ImageDataGenerator(rescale = 1./255)\n",
    "test_set = test_datagen.flow_from_directory('dataset/test_set',\n",
    "                                            target_size = (64, 64),\n",
    "                                            batch_size = 32,\n",
    "                                            class_mode = 'binary')"
   ]
  },
  {
   "cell_type": "code",
   "execution_count": 6,
   "metadata": {},
   "outputs": [],
   "source": [
    "# initializing the CNN\n",
    "cnn = tf.keras.models.Sequential()"
   ]
  },
  {
   "cell_type": "code",
   "execution_count": 7,
   "metadata": {},
   "outputs": [],
   "source": [
    "# Convolution\n",
    "cnn.add(tf.keras.layers.Conv2D(filters=32, kernel_size=3, activation='relu', input_shape=[64, 64, 3]))"
   ]
  },
  {
   "cell_type": "code",
   "execution_count": 8,
   "metadata": {},
   "outputs": [],
   "source": [
    "# pooling\n",
    "cnn.add(tf.keras.layers.MaxPool2D(pool_size=2, strides=2))"
   ]
  },
  {
   "cell_type": "code",
   "execution_count": 9,
   "metadata": {},
   "outputs": [],
   "source": [
    "# adding second layer\n",
    "cnn.add(tf.keras.layers.Conv2D(filters=32, kernel_size=3, activation='relu'))\n",
    "cnn.add(tf.keras.layers.MaxPool2D(pool_size=2, strides=2))\n"
   ]
  },
  {
   "cell_type": "code",
   "execution_count": 10,
   "metadata": {},
   "outputs": [],
   "source": [
    "# flattening\n",
    "cnn.add(tf.keras.layers.Flatten())"
   ]
  },
  {
   "cell_type": "code",
   "execution_count": 11,
   "metadata": {},
   "outputs": [],
   "source": [
    "cnn.add(tf.keras.layers.Dense(units=128, activation='relu'))"
   ]
  },
  {
   "cell_type": "code",
   "execution_count": 12,
   "metadata": {},
   "outputs": [],
   "source": [
    "# output layer\n",
    "cnn.add(tf.keras.layers.Dense(units=1, activation='sigmoid'))"
   ]
  },
  {
   "cell_type": "code",
   "execution_count": 13,
   "metadata": {},
   "outputs": [],
   "source": [
    "# compile\n",
    "cnn.compile(optimizer = 'adam', loss = 'binary_crossentropy', metrics = ['accuracy'])"
   ]
  },
  {
   "cell_type": "code",
   "execution_count": 14,
   "metadata": {},
   "outputs": [
    {
     "name": "stdout",
     "output_type": "stream",
     "text": [
      "WARNING:tensorflow:sample_weight modes were coerced from\n",
      "  ...\n",
      "    to  \n",
      "  ['...']\n",
      "WARNING:tensorflow:sample_weight modes were coerced from\n",
      "  ...\n",
      "    to  \n",
      "  ['...']\n",
      "Train for 250 steps, validate for 63 steps\n",
      "Epoch 1/25\n",
      "250/250 [==============================] - 78s 313ms/step - loss: 0.6769 - accuracy: 0.5690 - val_loss: 0.6561 - val_accuracy: 0.6100\n",
      "Epoch 2/25\n",
      "250/250 [==============================] - 57s 230ms/step - loss: 0.6277 - accuracy: 0.6506 - val_loss: 0.5767 - val_accuracy: 0.7030\n",
      "Epoch 3/25\n",
      "250/250 [==============================] - 58s 231ms/step - loss: 0.5846 - accuracy: 0.6845 - val_loss: 0.6076 - val_accuracy: 0.6805\n",
      "Epoch 4/25\n",
      "250/250 [==============================] - 60s 239ms/step - loss: 0.5448 - accuracy: 0.7212 - val_loss: 0.5651 - val_accuracy: 0.7120\n",
      "Epoch 5/25\n",
      "250/250 [==============================] - 65s 258ms/step - loss: 0.5137 - accuracy: 0.7440 - val_loss: 0.5970 - val_accuracy: 0.7035\n",
      "Epoch 6/25\n",
      "250/250 [==============================] - 60s 241ms/step - loss: 0.4884 - accuracy: 0.7645 - val_loss: 0.5018 - val_accuracy: 0.7575\n",
      "Epoch 7/25\n",
      "250/250 [==============================] - 59s 235ms/step - loss: 0.4658 - accuracy: 0.7831 - val_loss: 0.5020 - val_accuracy: 0.7590\n",
      "Epoch 8/25\n",
      "250/250 [==============================] - 59s 234ms/step - loss: 0.4546 - accuracy: 0.7830 - val_loss: 0.4727 - val_accuracy: 0.7895\n",
      "Epoch 9/25\n",
      "250/250 [==============================] - 60s 239ms/step - loss: 0.4326 - accuracy: 0.7969 - val_loss: 0.4760 - val_accuracy: 0.7860\n",
      "Epoch 10/25\n",
      "250/250 [==============================] - 56s 223ms/step - loss: 0.4153 - accuracy: 0.8083 - val_loss: 0.5372 - val_accuracy: 0.7685\n",
      "Epoch 11/25\n",
      "250/250 [==============================] - 57s 229ms/step - loss: 0.3992 - accuracy: 0.8179 - val_loss: 0.5084 - val_accuracy: 0.7625\n",
      "Epoch 12/25\n",
      "250/250 [==============================] - 54s 216ms/step - loss: 0.3893 - accuracy: 0.8221 - val_loss: 0.4790 - val_accuracy: 0.7840\n",
      "Epoch 13/25\n",
      "250/250 [==============================] - 54s 216ms/step - loss: 0.3608 - accuracy: 0.8411 - val_loss: 0.4718 - val_accuracy: 0.8070\n",
      "Epoch 14/25\n",
      "250/250 [==============================] - 56s 224ms/step - loss: 0.3639 - accuracy: 0.8336 - val_loss: 0.5113 - val_accuracy: 0.7795\n",
      "Epoch 15/25\n",
      "250/250 [==============================] - 53s 212ms/step - loss: 0.3359 - accuracy: 0.8556 - val_loss: 0.4822 - val_accuracy: 0.8070\n",
      "Epoch 16/25\n",
      "250/250 [==============================] - 56s 226ms/step - loss: 0.3289 - accuracy: 0.8571 - val_loss: 0.4845 - val_accuracy: 0.8035\n",
      "Epoch 17/25\n",
      "250/250 [==============================] - 56s 224ms/step - loss: 0.3046 - accuracy: 0.8683 - val_loss: 0.5107 - val_accuracy: 0.7965\n",
      "Epoch 18/25\n",
      "250/250 [==============================] - 58s 233ms/step - loss: 0.2932 - accuracy: 0.8766 - val_loss: 0.5314 - val_accuracy: 0.7915\n",
      "Epoch 19/25\n",
      "250/250 [==============================] - 57s 229ms/step - loss: 0.2778 - accuracy: 0.8819 - val_loss: 0.5726 - val_accuracy: 0.7750\n",
      "Epoch 20/25\n",
      "250/250 [==============================] - 57s 226ms/step - loss: 0.2749 - accuracy: 0.8805 - val_loss: 0.4963 - val_accuracy: 0.8075\n",
      "Epoch 21/25\n",
      "250/250 [==============================] - 56s 226ms/step - loss: 0.2498 - accuracy: 0.8928 - val_loss: 0.5292 - val_accuracy: 0.7950\n",
      "Epoch 22/25\n",
      "250/250 [==============================] - 59s 235ms/step - loss: 0.2377 - accuracy: 0.9026 - val_loss: 0.5376 - val_accuracy: 0.7950\n",
      "Epoch 23/25\n",
      "250/250 [==============================] - 67s 268ms/step - loss: 0.2314 - accuracy: 0.9034 - val_loss: 0.5151 - val_accuracy: 0.7985\n",
      "Epoch 24/25\n",
      "250/250 [==============================] - 61s 243ms/step - loss: 0.2122 - accuracy: 0.9180 - val_loss: 0.5775 - val_accuracy: 0.7940\n",
      "Epoch 25/25\n",
      "250/250 [==============================] - 60s 241ms/step - loss: 0.2091 - accuracy: 0.9147 - val_loss: 0.5618 - val_accuracy: 0.8020\n"
     ]
    },
    {
     "data": {
      "text/plain": [
       "<tensorflow.python.keras.callbacks.History at 0x140924ceb48>"
      ]
     },
     "execution_count": 14,
     "metadata": {},
     "output_type": "execute_result"
    }
   ],
   "source": [
    "cnn.fit(x = training_set, validation_data = test_set, epochs = 25)"
   ]
  },
  {
   "cell_type": "code",
   "execution_count": 25,
   "metadata": {},
   "outputs": [],
   "source": [
    "import numpy as np\n",
    "from keras.preprocessing import image\n",
    "test_image = image.load_img('dataset/single_prediction/cat_or_dog_12.jpg', target_size = (64, 64))\n",
    "test_image = image.img_to_array(test_image)\n",
    "test_image = np.expand_dims(test_image, axis = 0)\n",
    "result = cnn.predict(test_image)\n",
    "training_set.class_indices\n",
    "if result[0][0] == 1:\n",
    "  prediction = 'dog'\n",
    "else:\n",
    "  prediction = 'cat'"
   ]
  },
  {
   "cell_type": "code",
   "execution_count": 26,
   "metadata": {},
   "outputs": [
    {
     "name": "stdout",
     "output_type": "stream",
     "text": [
      "cat\n"
     ]
    }
   ],
   "source": [
    "print(prediction)"
   ]
  },
  {
   "cell_type": "code",
   "execution_count": null,
   "metadata": {},
   "outputs": [],
   "source": []
  }
 ],
 "metadata": {
  "kernelspec": {
   "display_name": "Python 3",
   "language": "python",
   "name": "python3"
  },
  "language_info": {
   "codemirror_mode": {
    "name": "ipython",
    "version": 3
   },
   "file_extension": ".py",
   "mimetype": "text/x-python",
   "name": "python",
   "nbconvert_exporter": "python",
   "pygments_lexer": "ipython3",
   "version": "3.8.5"
  }
 },
 "nbformat": 4,
 "nbformat_minor": 4
}
